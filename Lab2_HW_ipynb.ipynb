{
  "nbformat": 4,
  "nbformat_minor": 0,
  "metadata": {
    "colab": {
      "provenance": []
    },
    "kernelspec": {
      "name": "python3",
      "display_name": "Python 3"
    },
    "language_info": {
      "name": "python"
    }
  },
  "cells": [
    {
      "cell_type": "code",
      "source": [
        "#загрузка и импорт библиотек\n",
        "import pandas as pd\n",
        "import numpy as np\n",
        "from sklearn.model_selection import train_test_split\n",
        "from sklearn.feature_extraction.text import TfidfTransformer,  TfidfVectorizer\n",
        "from sklearn.pipeline import Pipeline\n",
        "from sklearn.experimental import enable_halving_search_cv\n",
        "from sklearn.model_selection import HalvingGridSearchCV\n",
        "from sklearn.tree import DecisionTreeClassifier\n",
        "from sklearn.naive_bayes import MultinomialNB\n",
        "import matplotlib.pyplot as plt\n",
        "import re\n",
        "import string\n",
        "import spacy"
      ],
      "metadata": {
        "id": "SwK06nIXQxGV"
      },
      "execution_count": 41,
      "outputs": []
    },
    {
      "cell_type": "code",
      "execution_count": null,
      "metadata": {
        "colab": {
          "base_uri": "https://localhost:8080/",
          "height": 206
        },
        "id": "i28-cEL0PjL6",
        "outputId": "e9e9fc59-4bff-46f0-e6b1-dd7e527f8ecb"
      },
      "outputs": [
        {
          "output_type": "execute_result",
          "data": {
            "text/plain": [
              "                                               email  label\n",
              "0   date wed NUMBER aug NUMBER NUMBER NUMBER NUMB...      0\n",
              "1  martin a posted tassos papadopoulos the greek ...      0\n",
              "2  man threatens explosion in moscow thursday aug...      0\n",
              "3  klez the virus that won t die already the most...      0\n",
              "4   in adding cream to spaghetti carbonara which ...      0"
            ],
            "text/html": [
              "\n",
              "  <div id=\"df-34f7f8df-ca95-48f0-ae39-c3b89e892ac4\">\n",
              "    <div class=\"colab-df-container\">\n",
              "      <div>\n",
              "<style scoped>\n",
              "    .dataframe tbody tr th:only-of-type {\n",
              "        vertical-align: middle;\n",
              "    }\n",
              "\n",
              "    .dataframe tbody tr th {\n",
              "        vertical-align: top;\n",
              "    }\n",
              "\n",
              "    .dataframe thead th {\n",
              "        text-align: right;\n",
              "    }\n",
              "</style>\n",
              "<table border=\"1\" class=\"dataframe\">\n",
              "  <thead>\n",
              "    <tr style=\"text-align: right;\">\n",
              "      <th></th>\n",
              "      <th>email</th>\n",
              "      <th>label</th>\n",
              "    </tr>\n",
              "  </thead>\n",
              "  <tbody>\n",
              "    <tr>\n",
              "      <th>0</th>\n",
              "      <td>date wed NUMBER aug NUMBER NUMBER NUMBER NUMB...</td>\n",
              "      <td>0</td>\n",
              "    </tr>\n",
              "    <tr>\n",
              "      <th>1</th>\n",
              "      <td>martin a posted tassos papadopoulos the greek ...</td>\n",
              "      <td>0</td>\n",
              "    </tr>\n",
              "    <tr>\n",
              "      <th>2</th>\n",
              "      <td>man threatens explosion in moscow thursday aug...</td>\n",
              "      <td>0</td>\n",
              "    </tr>\n",
              "    <tr>\n",
              "      <th>3</th>\n",
              "      <td>klez the virus that won t die already the most...</td>\n",
              "      <td>0</td>\n",
              "    </tr>\n",
              "    <tr>\n",
              "      <th>4</th>\n",
              "      <td>in adding cream to spaghetti carbonara which ...</td>\n",
              "      <td>0</td>\n",
              "    </tr>\n",
              "  </tbody>\n",
              "</table>\n",
              "</div>\n",
              "      <button class=\"colab-df-convert\" onclick=\"convertToInteractive('df-34f7f8df-ca95-48f0-ae39-c3b89e892ac4')\"\n",
              "              title=\"Convert this dataframe to an interactive table.\"\n",
              "              style=\"display:none;\">\n",
              "        \n",
              "  <svg xmlns=\"http://www.w3.org/2000/svg\" height=\"24px\"viewBox=\"0 0 24 24\"\n",
              "       width=\"24px\">\n",
              "    <path d=\"M0 0h24v24H0V0z\" fill=\"none\"/>\n",
              "    <path d=\"M18.56 5.44l.94 2.06.94-2.06 2.06-.94-2.06-.94-.94-2.06-.94 2.06-2.06.94zm-11 1L8.5 8.5l.94-2.06 2.06-.94-2.06-.94L8.5 2.5l-.94 2.06-2.06.94zm10 10l.94 2.06.94-2.06 2.06-.94-2.06-.94-.94-2.06-.94 2.06-2.06.94z\"/><path d=\"M17.41 7.96l-1.37-1.37c-.4-.4-.92-.59-1.43-.59-.52 0-1.04.2-1.43.59L10.3 9.45l-7.72 7.72c-.78.78-.78 2.05 0 2.83L4 21.41c.39.39.9.59 1.41.59.51 0 1.02-.2 1.41-.59l7.78-7.78 2.81-2.81c.8-.78.8-2.07 0-2.86zM5.41 20L4 18.59l7.72-7.72 1.47 1.35L5.41 20z\"/>\n",
              "  </svg>\n",
              "      </button>\n",
              "      \n",
              "  <style>\n",
              "    .colab-df-container {\n",
              "      display:flex;\n",
              "      flex-wrap:wrap;\n",
              "      gap: 12px;\n",
              "    }\n",
              "\n",
              "    .colab-df-convert {\n",
              "      background-color: #E8F0FE;\n",
              "      border: none;\n",
              "      border-radius: 50%;\n",
              "      cursor: pointer;\n",
              "      display: none;\n",
              "      fill: #1967D2;\n",
              "      height: 32px;\n",
              "      padding: 0 0 0 0;\n",
              "      width: 32px;\n",
              "    }\n",
              "\n",
              "    .colab-df-convert:hover {\n",
              "      background-color: #E2EBFA;\n",
              "      box-shadow: 0px 1px 2px rgba(60, 64, 67, 0.3), 0px 1px 3px 1px rgba(60, 64, 67, 0.15);\n",
              "      fill: #174EA6;\n",
              "    }\n",
              "\n",
              "    [theme=dark] .colab-df-convert {\n",
              "      background-color: #3B4455;\n",
              "      fill: #D2E3FC;\n",
              "    }\n",
              "\n",
              "    [theme=dark] .colab-df-convert:hover {\n",
              "      background-color: #434B5C;\n",
              "      box-shadow: 0px 1px 3px 1px rgba(0, 0, 0, 0.15);\n",
              "      filter: drop-shadow(0px 1px 2px rgba(0, 0, 0, 0.3));\n",
              "      fill: #FFFFFF;\n",
              "    }\n",
              "  </style>\n",
              "\n",
              "      <script>\n",
              "        const buttonEl =\n",
              "          document.querySelector('#df-34f7f8df-ca95-48f0-ae39-c3b89e892ac4 button.colab-df-convert');\n",
              "        buttonEl.style.display =\n",
              "          google.colab.kernel.accessAllowed ? 'block' : 'none';\n",
              "\n",
              "        async function convertToInteractive(key) {\n",
              "          const element = document.querySelector('#df-34f7f8df-ca95-48f0-ae39-c3b89e892ac4');\n",
              "          const dataTable =\n",
              "            await google.colab.kernel.invokeFunction('convertToInteractive',\n",
              "                                                     [key], {});\n",
              "          if (!dataTable) return;\n",
              "\n",
              "          const docLinkHtml = 'Like what you see? Visit the ' +\n",
              "            '<a target=\"_blank\" href=https://colab.research.google.com/notebooks/data_table.ipynb>data table notebook</a>'\n",
              "            + ' to learn more about interactive tables.';\n",
              "          element.innerHTML = '';\n",
              "          dataTable['output_type'] = 'display_data';\n",
              "          await google.colab.output.renderOutput(dataTable, element);\n",
              "          const docLink = document.createElement('div');\n",
              "          docLink.innerHTML = docLinkHtml;\n",
              "          element.appendChild(docLink);\n",
              "        }\n",
              "      </script>\n",
              "    </div>\n",
              "  </div>\n",
              "  "
            ]
          },
          "metadata": {},
          "execution_count": 13
        }
      ],
      "source": [
        "#загрузка датасета и проверка\n",
        "data = pd.read_csv(\"spam_or_not_spam.csv\")\n",
        "data.head() "
      ]
    },
    {
      "cell_type": "code",
      "source": [
        "#изменение столбцов и стоп-слова\n",
        "data = data[['email','label']].rename(columns={'email':'text', 'label' :'label \"spam\"'})\n",
        "vocab = spacy.load(\"en_core_web_sm\")\n",
        "sw = vocab.Defaults.stop_words\n",
        "' '.join(sw)\n",
        "data['text']= data['text'].astype(str)"
      ],
      "metadata": {
        "id": "HPmx2brcQwYr"
      },
      "execution_count": null,
      "outputs": []
    },
    {
      "cell_type": "markdown",
      "source": [
        "##CountVectorizer"
      ],
      "metadata": {
        "id": "VmcCZhanX3Vy"
      }
    },
    {
      "cell_type": "code",
      "source": [
        "#загрузка и импорт библиотек\n",
        "from sklearn.feature_extraction.text import CountVectorizer\n",
        "from sklearn.model_selection import train_test_split\n",
        "from sklearn.linear_model import LogisticRegression\n",
        "from sklearn.dummy import DummyClassifier\n",
        "from sklearn.metrics import classification_report"
      ],
      "metadata": {
        "id": "QmlsAVeqX7UE"
      },
      "execution_count": null,
      "outputs": []
    },
    {
      "cell_type": "code",
      "source": [
        "#токен\n",
        "data['cleaned_text_sm'] = data['text'].apply(\n",
        "    lambda x: ' '.join(\n",
        "        token.lemma_.lower() for token in vocab(x) if\n",
        "        not token.is_stop                              \n",
        "        and not token.is_punct                          \n",
        "        and not token.is_space                          \n",
        "    )\n",
        ")"
      ],
      "metadata": {
        "id": "lgqOmLeXZFWN"
      },
      "execution_count": null,
      "outputs": []
    },
    {
      "cell_type": "code",
      "source": [
        "#обучение\n",
        "X_train, X_test, y_train, y_test = train_test_split(data['cleaned_text_sm'], data['label \"spam\"'], random_state=1000)\n",
        "vectorizer = CountVectorizer(max_df=0.8, min_df=0.001)\n",
        "X_train_vectorized = vectorizer.fit_transform(X_train)\n",
        "X_test_vectorized = vectorizer.transform(X_test)"
      ],
      "metadata": {
        "id": "dpGkvTDLYYIS"
      },
      "execution_count": null,
      "outputs": []
    },
    {
      "cell_type": "code",
      "source": [
        "#предсказание\n",
        "dummy_clf = DummyClassifier(strategy=\"most_frequent\").fit(X_train_vectorized, y_train)\n",
        "preds = dummy_clf.predict(X_test_vectorized)\n",
        "print(classification_report(y_test, preds, zero_division=0))"
      ],
      "metadata": {
        "colab": {
          "base_uri": "https://localhost:8080/"
        },
        "id": "vo25zteuYYPg",
        "outputId": "c0ff8aaa-8b3b-4883-87f7-b02423c1056b"
      },
      "execution_count": null,
      "outputs": [
        {
          "output_type": "stream",
          "name": "stdout",
          "text": [
            "              precision    recall  f1-score   support\n",
            "\n",
            "           0       0.83      1.00      0.91       622\n",
            "           1       0.00      0.00      0.00       128\n",
            "\n",
            "    accuracy                           0.83       750\n",
            "   macro avg       0.41      0.50      0.45       750\n",
            "weighted avg       0.69      0.83      0.75       750\n",
            "\n"
          ]
        }
      ]
    },
    {
      "cell_type": "code",
      "source": [
        "#логистическая регрессия\n",
        "lr = LogisticRegression().fit(X_train_vectorized, y_train)\n",
        "result = lr.predict(X_test_vectorized)\n",
        "print(classification_report(y_test, result))"
      ],
      "metadata": {
        "colab": {
          "base_uri": "https://localhost:8080/"
        },
        "id": "w8OHakF0YYSH",
        "outputId": "7e0abb7e-5f48-4b8d-849a-cf8b3dad925c"
      },
      "execution_count": null,
      "outputs": [
        {
          "output_type": "stream",
          "name": "stdout",
          "text": [
            "              precision    recall  f1-score   support\n",
            "\n",
            "           0       0.99      1.00      0.99       622\n",
            "           1       1.00      0.95      0.97       128\n",
            "\n",
            "    accuracy                           0.99       750\n",
            "   macro avg       0.99      0.97      0.98       750\n",
            "weighted avg       0.99      0.99      0.99       750\n",
            "\n"
          ]
        }
      ]
    },
    {
      "cell_type": "markdown",
      "source": [
        "##TfidfTransformer и TfidfVectorizer\n"
      ],
      "metadata": {
        "id": "FrC9M0IRp2mU"
      }
    },
    {
      "cell_type": "code",
      "source": [
        "p = Pipeline(\n",
        "    steps=[\n",
        "        ('counter', CountVectorizer(max_df=0.8, min_df=0.001)),\n",
        "        ('tfidf', TfidfTransformer()),\n",
        "        ('clf', LogisticRegression())\n",
        "    ]\n",
        ").fit(X_train, y_train)\n",
        "prediction = p.predict(X_test)\n",
        "print(classification_report(y_test, prediction))"
      ],
      "metadata": {
        "colab": {
          "base_uri": "https://localhost:8080/"
        },
        "id": "ypK34yB0YYVG",
        "outputId": "74296f63-fab5-4046-dfea-3f754bb63a25"
      },
      "execution_count": null,
      "outputs": [
        {
          "output_type": "stream",
          "name": "stdout",
          "text": [
            "              precision    recall  f1-score   support\n",
            "\n",
            "           0       0.95      1.00      0.98       622\n",
            "           1       1.00      0.77      0.87       128\n",
            "\n",
            "    accuracy                           0.96       750\n",
            "   macro avg       0.98      0.88      0.92       750\n",
            "weighted avg       0.96      0.96      0.96       750\n",
            "\n"
          ]
        }
      ]
    },
    {
      "cell_type": "code",
      "source": [
        "#sub\n",
        "def custom_tokenize(text):\n",
        "  text = re.sub(r'[^a-zA-Z ]', '', text)\n",
        "  return text.split()"
      ],
      "metadata": {
        "id": "h6Cqm2Z3qk3S"
      },
      "execution_count": null,
      "outputs": []
    },
    {
      "cell_type": "code",
      "source": [
        "pd = Pipeline(\n",
        "    steps=[\n",
        "        ('tfidf', TfidfVectorizer(max_df=0.7, min_df=0.003, tokenizer=custom_tokenize)),\n",
        "        ('clf', LogisticRegression())\n",
        "    ]\n",
        ").fit(X_train, y_train)\n",
        "prediction = p.predict(X_test)\n",
        "print(classification_report(y_test, prediction))"
      ],
      "metadata": {
        "colab": {
          "base_uri": "https://localhost:8080/"
        },
        "id": "twueyqwCqYcW",
        "outputId": "550213f6-7520-4379-bdc1-78af8281fe79"
      },
      "execution_count": null,
      "outputs": [
        {
          "output_type": "stream",
          "name": "stderr",
          "text": [
            "/usr/local/lib/python3.10/dist-packages/sklearn/feature_extraction/text.py:528: UserWarning: The parameter 'token_pattern' will not be used since 'tokenizer' is not None'\n",
            "  warnings.warn(\n"
          ]
        },
        {
          "output_type": "stream",
          "name": "stdout",
          "text": [
            "              precision    recall  f1-score   support\n",
            "\n",
            "           0       0.96      1.00      0.98       622\n",
            "           1       1.00      0.78      0.88       128\n",
            "\n",
            "    accuracy                           0.96       750\n",
            "   macro avg       0.98      0.89      0.93       750\n",
            "weighted avg       0.96      0.96      0.96       750\n",
            "\n"
          ]
        }
      ]
    },
    {
      "cell_type": "markdown",
      "source": [
        "## Логистическая регрессия для TfidfVectorizer"
      ],
      "metadata": {
        "id": "OfPWnyuDqqtO"
      }
    },
    {
      "cell_type": "code",
      "source": [
        "pipe = Pipeline(\n",
        "    steps=[\n",
        "        ('tfidf', TfidfVectorizer()),\n",
        "        ('clf', LogisticRegression())\n",
        "    ]\n",
        ")"
      ],
      "metadata": {
        "id": "eAy1MyKhqvOC"
      },
      "execution_count": null,
      "outputs": []
    },
    {
      "cell_type": "code",
      "source": [
        "#параметры\n",
        "parameter_grid = {\n",
        "    \"tfidf__max_df\": np.linspace(0.3, 0.7, 20),\n",
        "    \"tfidf__min_df\": [0.0, 0.001, 0.003, 0.005, 0.007],\n",
        "    \"tfidf__ngram_range\": ((1, 1), (1, 2)), \n",
        "    \"tfidf__norm\": (\"l1\", \"l2\"),\n",
        "    \"clf__C\": np.linspace(0.1, 1, 10),\n",
        "}"
      ],
      "metadata": {
        "id": "ttMYRAYrq09O"
      },
      "execution_count": null,
      "outputs": []
    },
    {
      "cell_type": "code",
      "source": [
        "#обучение\n",
        "%%time\n",
        "\n",
        "grid_search = HalvingGridSearchCV(pipe,param_grid=parameter_grid,n_jobs=-1,verbose=1,cv=2,scoring='accuracy')\n",
        "grid_search.fit(X_train, y_train)"
      ],
      "metadata": {
        "colab": {
          "base_uri": "https://localhost:8080/",
          "height": 873
        },
        "id": "pIpVULSnq72D",
        "outputId": "307f327e-6aab-4ab7-f2f5-baddb2565d61"
      },
      "execution_count": null,
      "outputs": [
        {
          "output_type": "stream",
          "name": "stdout",
          "text": [
            "n_iterations: 6\n",
            "n_required_iterations: 8\n",
            "n_possible_iterations: 6\n",
            "min_resources_: 8\n",
            "max_resources_: 2250\n",
            "aggressive_elimination: False\n",
            "factor: 3\n",
            "----------\n",
            "iter: 0\n",
            "n_candidates: 4000\n",
            "n_resources: 8\n",
            "Fitting 2 folds for each of 4000 candidates, totalling 8000 fits\n",
            "----------\n",
            "iter: 1\n",
            "n_candidates: 1334\n",
            "n_resources: 24\n",
            "Fitting 2 folds for each of 1334 candidates, totalling 2668 fits\n",
            "----------\n",
            "iter: 2\n",
            "n_candidates: 445\n",
            "n_resources: 72\n",
            "Fitting 2 folds for each of 445 candidates, totalling 890 fits\n",
            "----------\n",
            "iter: 3\n",
            "n_candidates: 149\n",
            "n_resources: 216\n",
            "Fitting 2 folds for each of 149 candidates, totalling 298 fits\n",
            "----------\n",
            "iter: 4\n",
            "n_candidates: 50\n",
            "n_resources: 648\n",
            "Fitting 2 folds for each of 50 candidates, totalling 100 fits\n",
            "----------\n",
            "iter: 5\n",
            "n_candidates: 17\n",
            "n_resources: 1944\n",
            "Fitting 2 folds for each of 17 candidates, totalling 34 fits\n",
            "CPU times: user 29.5 s, sys: 2.28 s, total: 31.8 s\n",
            "Wall time: 5min 58s\n"
          ]
        },
        {
          "output_type": "execute_result",
          "data": {
            "text/plain": [
              "HalvingGridSearchCV(cv=2,\n",
              "                    estimator=Pipeline(steps=[('tfidf', TfidfVectorizer()),\n",
              "                                              ('clf', LogisticRegression())]),\n",
              "                    n_jobs=-1,\n",
              "                    param_grid={'clf__C': array([0.1, 0.2, 0.3, 0.4, 0.5, 0.6, 0.7, 0.8, 0.9, 1. ]),\n",
              "                                'tfidf__max_df': array([0.3       , 0.32105263, 0.34210526, 0.36315789, 0.38421053,\n",
              "       0.40526316, 0.42631579, 0.44736842, 0.46842105, 0.48947368,\n",
              "       0.51052632, 0.53157895, 0.55263158, 0.57368421, 0.59473684,\n",
              "       0.61578947, 0.63684211, 0.65789474, 0.67894737, 0.7       ]),\n",
              "                                'tfidf__min_df': [0.0, 0.001, 0.003, 0.005,\n",
              "                                                  0.007],\n",
              "                                'tfidf__ngram_range': ((1, 1), (1, 2)),\n",
              "                                'tfidf__norm': ('l1', 'l2')},\n",
              "                    scoring='accuracy', verbose=1)"
            ],
            "text/html": [
              "<style>#sk-container-id-2 {color: black;background-color: white;}#sk-container-id-2 pre{padding: 0;}#sk-container-id-2 div.sk-toggleable {background-color: white;}#sk-container-id-2 label.sk-toggleable__label {cursor: pointer;display: block;width: 100%;margin-bottom: 0;padding: 0.3em;box-sizing: border-box;text-align: center;}#sk-container-id-2 label.sk-toggleable__label-arrow:before {content: \"▸\";float: left;margin-right: 0.25em;color: #696969;}#sk-container-id-2 label.sk-toggleable__label-arrow:hover:before {color: black;}#sk-container-id-2 div.sk-estimator:hover label.sk-toggleable__label-arrow:before {color: black;}#sk-container-id-2 div.sk-toggleable__content {max-height: 0;max-width: 0;overflow: hidden;text-align: left;background-color: #f0f8ff;}#sk-container-id-2 div.sk-toggleable__content pre {margin: 0.2em;color: black;border-radius: 0.25em;background-color: #f0f8ff;}#sk-container-id-2 input.sk-toggleable__control:checked~div.sk-toggleable__content {max-height: 200px;max-width: 100%;overflow: auto;}#sk-container-id-2 input.sk-toggleable__control:checked~label.sk-toggleable__label-arrow:before {content: \"▾\";}#sk-container-id-2 div.sk-estimator input.sk-toggleable__control:checked~label.sk-toggleable__label {background-color: #d4ebff;}#sk-container-id-2 div.sk-label input.sk-toggleable__control:checked~label.sk-toggleable__label {background-color: #d4ebff;}#sk-container-id-2 input.sk-hidden--visually {border: 0;clip: rect(1px 1px 1px 1px);clip: rect(1px, 1px, 1px, 1px);height: 1px;margin: -1px;overflow: hidden;padding: 0;position: absolute;width: 1px;}#sk-container-id-2 div.sk-estimator {font-family: monospace;background-color: #f0f8ff;border: 1px dotted black;border-radius: 0.25em;box-sizing: border-box;margin-bottom: 0.5em;}#sk-container-id-2 div.sk-estimator:hover {background-color: #d4ebff;}#sk-container-id-2 div.sk-parallel-item::after {content: \"\";width: 100%;border-bottom: 1px solid gray;flex-grow: 1;}#sk-container-id-2 div.sk-label:hover label.sk-toggleable__label {background-color: #d4ebff;}#sk-container-id-2 div.sk-serial::before {content: \"\";position: absolute;border-left: 1px solid gray;box-sizing: border-box;top: 0;bottom: 0;left: 50%;z-index: 0;}#sk-container-id-2 div.sk-serial {display: flex;flex-direction: column;align-items: center;background-color: white;padding-right: 0.2em;padding-left: 0.2em;position: relative;}#sk-container-id-2 div.sk-item {position: relative;z-index: 1;}#sk-container-id-2 div.sk-parallel {display: flex;align-items: stretch;justify-content: center;background-color: white;position: relative;}#sk-container-id-2 div.sk-item::before, #sk-container-id-2 div.sk-parallel-item::before {content: \"\";position: absolute;border-left: 1px solid gray;box-sizing: border-box;top: 0;bottom: 0;left: 50%;z-index: -1;}#sk-container-id-2 div.sk-parallel-item {display: flex;flex-direction: column;z-index: 1;position: relative;background-color: white;}#sk-container-id-2 div.sk-parallel-item:first-child::after {align-self: flex-end;width: 50%;}#sk-container-id-2 div.sk-parallel-item:last-child::after {align-self: flex-start;width: 50%;}#sk-container-id-2 div.sk-parallel-item:only-child::after {width: 0;}#sk-container-id-2 div.sk-dashed-wrapped {border: 1px dashed gray;margin: 0 0.4em 0.5em 0.4em;box-sizing: border-box;padding-bottom: 0.4em;background-color: white;}#sk-container-id-2 div.sk-label label {font-family: monospace;font-weight: bold;display: inline-block;line-height: 1.2em;}#sk-container-id-2 div.sk-label-container {text-align: center;}#sk-container-id-2 div.sk-container {/* jupyter's `normalize.less` sets `[hidden] { display: none; }` but bootstrap.min.css set `[hidden] { display: none !important; }` so we also need the `!important` here to be able to override the default hidden behavior on the sphinx rendered scikit-learn.org. See: https://github.com/scikit-learn/scikit-learn/issues/21755 */display: inline-block !important;position: relative;}#sk-container-id-2 div.sk-text-repr-fallback {display: none;}</style><div id=\"sk-container-id-2\" class=\"sk-top-container\"><div class=\"sk-text-repr-fallback\"><pre>HalvingGridSearchCV(cv=2,\n",
              "                    estimator=Pipeline(steps=[(&#x27;tfidf&#x27;, TfidfVectorizer()),\n",
              "                                              (&#x27;clf&#x27;, LogisticRegression())]),\n",
              "                    n_jobs=-1,\n",
              "                    param_grid={&#x27;clf__C&#x27;: array([0.1, 0.2, 0.3, 0.4, 0.5, 0.6, 0.7, 0.8, 0.9, 1. ]),\n",
              "                                &#x27;tfidf__max_df&#x27;: array([0.3       , 0.32105263, 0.34210526, 0.36315789, 0.38421053,\n",
              "       0.40526316, 0.42631579, 0.44736842, 0.46842105, 0.48947368,\n",
              "       0.51052632, 0.53157895, 0.55263158, 0.57368421, 0.59473684,\n",
              "       0.61578947, 0.63684211, 0.65789474, 0.67894737, 0.7       ]),\n",
              "                                &#x27;tfidf__min_df&#x27;: [0.0, 0.001, 0.003, 0.005,\n",
              "                                                  0.007],\n",
              "                                &#x27;tfidf__ngram_range&#x27;: ((1, 1), (1, 2)),\n",
              "                                &#x27;tfidf__norm&#x27;: (&#x27;l1&#x27;, &#x27;l2&#x27;)},\n",
              "                    scoring=&#x27;accuracy&#x27;, verbose=1)</pre><b>In a Jupyter environment, please rerun this cell to show the HTML representation or trust the notebook. <br />On GitHub, the HTML representation is unable to render, please try loading this page with nbviewer.org.</b></div><div class=\"sk-container\" hidden><div class=\"sk-item sk-dashed-wrapped\"><div class=\"sk-label-container\"><div class=\"sk-label sk-toggleable\"><input class=\"sk-toggleable__control sk-hidden--visually\" id=\"sk-estimator-id-5\" type=\"checkbox\" ><label for=\"sk-estimator-id-5\" class=\"sk-toggleable__label sk-toggleable__label-arrow\">HalvingGridSearchCV</label><div class=\"sk-toggleable__content\"><pre>HalvingGridSearchCV(cv=2,\n",
              "                    estimator=Pipeline(steps=[(&#x27;tfidf&#x27;, TfidfVectorizer()),\n",
              "                                              (&#x27;clf&#x27;, LogisticRegression())]),\n",
              "                    n_jobs=-1,\n",
              "                    param_grid={&#x27;clf__C&#x27;: array([0.1, 0.2, 0.3, 0.4, 0.5, 0.6, 0.7, 0.8, 0.9, 1. ]),\n",
              "                                &#x27;tfidf__max_df&#x27;: array([0.3       , 0.32105263, 0.34210526, 0.36315789, 0.38421053,\n",
              "       0.40526316, 0.42631579, 0.44736842, 0.46842105, 0.48947368,\n",
              "       0.51052632, 0.53157895, 0.55263158, 0.57368421, 0.59473684,\n",
              "       0.61578947, 0.63684211, 0.65789474, 0.67894737, 0.7       ]),\n",
              "                                &#x27;tfidf__min_df&#x27;: [0.0, 0.001, 0.003, 0.005,\n",
              "                                                  0.007],\n",
              "                                &#x27;tfidf__ngram_range&#x27;: ((1, 1), (1, 2)),\n",
              "                                &#x27;tfidf__norm&#x27;: (&#x27;l1&#x27;, &#x27;l2&#x27;)},\n",
              "                    scoring=&#x27;accuracy&#x27;, verbose=1)</pre></div></div></div><div class=\"sk-parallel\"><div class=\"sk-parallel-item\"><div class=\"sk-item\"><div class=\"sk-label-container\"><div class=\"sk-label sk-toggleable\"><input class=\"sk-toggleable__control sk-hidden--visually\" id=\"sk-estimator-id-6\" type=\"checkbox\" ><label for=\"sk-estimator-id-6\" class=\"sk-toggleable__label sk-toggleable__label-arrow\">estimator: Pipeline</label><div class=\"sk-toggleable__content\"><pre>Pipeline(steps=[(&#x27;tfidf&#x27;, TfidfVectorizer()), (&#x27;clf&#x27;, LogisticRegression())])</pre></div></div></div><div class=\"sk-serial\"><div class=\"sk-item\"><div class=\"sk-serial\"><div class=\"sk-item\"><div class=\"sk-estimator sk-toggleable\"><input class=\"sk-toggleable__control sk-hidden--visually\" id=\"sk-estimator-id-7\" type=\"checkbox\" ><label for=\"sk-estimator-id-7\" class=\"sk-toggleable__label sk-toggleable__label-arrow\">TfidfVectorizer</label><div class=\"sk-toggleable__content\"><pre>TfidfVectorizer()</pre></div></div></div><div class=\"sk-item\"><div class=\"sk-estimator sk-toggleable\"><input class=\"sk-toggleable__control sk-hidden--visually\" id=\"sk-estimator-id-8\" type=\"checkbox\" ><label for=\"sk-estimator-id-8\" class=\"sk-toggleable__label sk-toggleable__label-arrow\">LogisticRegression</label><div class=\"sk-toggleable__content\"><pre>LogisticRegression()</pre></div></div></div></div></div></div></div></div></div></div></div></div>"
            ]
          },
          "metadata": {},
          "execution_count": 32
        }
      ]
    },
    {
      "cell_type": "code",
      "source": [
        "#результат\n",
        "logregtfidf=grid_search\n",
        "logregtfidf.best_score_\n",
        "result = logregtfidf.best_estimator_.predict(X_test)\n",
        "print(classification_report(y_test, result))"
      ],
      "metadata": {
        "colab": {
          "base_uri": "https://localhost:8080/"
        },
        "id": "0mJJMuPMskV8",
        "outputId": "1e7f85a2-ead4-4419-d701-bbbadacfe35c"
      },
      "execution_count": null,
      "outputs": [
        {
          "output_type": "stream",
          "name": "stdout",
          "text": [
            "              precision    recall  f1-score   support\n",
            "\n",
            "           0       0.97      1.00      0.98       622\n",
            "           1       1.00      0.83      0.91       128\n",
            "\n",
            "    accuracy                           0.97       750\n",
            "   macro avg       0.98      0.91      0.94       750\n",
            "weighted avg       0.97      0.97      0.97       750\n",
            "\n"
          ]
        }
      ]
    },
    {
      "cell_type": "markdown",
      "source": [
        "##DecisionTreeClassifier для TfidfVectorizer"
      ],
      "metadata": {
        "id": "HkyS1Y1xw8hr"
      }
    },
    {
      "cell_type": "code",
      "source": [
        "pipe = Pipeline(\n",
        "    steps=[\n",
        "        ('tfidf', TfidfVectorizer()),\n",
        "        ('clf', DecisionTreeClassifier())\n",
        "    ]\n",
        ")"
      ],
      "metadata": {
        "id": "xlAgYwO5w49W"
      },
      "execution_count": 36,
      "outputs": []
    },
    {
      "cell_type": "code",
      "source": [
        "parameter_grid = {\n",
        "    \"tfidf__max_df\": np.linspace(0.3, 0.7, 10),\n",
        "    \"tfidf__min_df\": [ 0.0, 0.001, 0.003, 0.005, 0.007],\n",
        "    \"tfidf__ngram_range\": ((1, 1), (1, 2)), \n",
        "    \"tfidf__norm\": (\"l1\", \"l2\"),\n",
        "    \"clf__criterion\": (\"gini\" , \"entropy\" , \"log_loss\"),\n",
        "}"
      ],
      "metadata": {
        "id": "yrVEn4nS0mhj"
      },
      "execution_count": 37,
      "outputs": []
    },
    {
      "cell_type": "code",
      "source": [
        "%%time\n",
        "\n",
        "grid_search = HalvingGridSearchCV(pipe,param_grid=parameter_grid,n_jobs=-1,verbose=1,cv=2,scoring='accuracy')\n",
        "grid_search.fit(X_train, y_train)"
      ],
      "metadata": {
        "colab": {
          "base_uri": "https://localhost:8080/",
          "height": 873
        },
        "id": "ADQajeTZ0oDP",
        "outputId": "8b77b13c-bea6-424c-b7c9-0057610f866d"
      },
      "execution_count": 38,
      "outputs": [
        {
          "output_type": "stream",
          "name": "stdout",
          "text": [
            "n_iterations: 6\n",
            "n_required_iterations: 6\n",
            "n_possible_iterations: 6\n",
            "min_resources_: 9\n",
            "max_resources_: 2250\n",
            "aggressive_elimination: False\n",
            "factor: 3\n",
            "----------\n",
            "iter: 0\n",
            "n_candidates: 600\n",
            "n_resources: 9\n",
            "Fitting 2 folds for each of 600 candidates, totalling 1200 fits\n",
            "----------\n",
            "iter: 1\n",
            "n_candidates: 200\n",
            "n_resources: 27\n",
            "Fitting 2 folds for each of 200 candidates, totalling 400 fits\n",
            "----------\n",
            "iter: 2\n",
            "n_candidates: 67\n",
            "n_resources: 81\n",
            "Fitting 2 folds for each of 67 candidates, totalling 134 fits\n",
            "----------\n",
            "iter: 3\n",
            "n_candidates: 23\n",
            "n_resources: 243\n",
            "Fitting 2 folds for each of 23 candidates, totalling 46 fits\n",
            "----------\n",
            "iter: 4\n",
            "n_candidates: 8\n",
            "n_resources: 729\n",
            "Fitting 2 folds for each of 8 candidates, totalling 16 fits\n",
            "----------\n",
            "iter: 5\n",
            "n_candidates: 3\n",
            "n_resources: 2187\n",
            "Fitting 2 folds for each of 3 candidates, totalling 6 fits\n",
            "CPU times: user 4.03 s, sys: 291 ms, total: 4.32 s\n",
            "Wall time: 57.5 s\n"
          ]
        },
        {
          "output_type": "execute_result",
          "data": {
            "text/plain": [
              "HalvingGridSearchCV(cv=2,\n",
              "                    estimator=Pipeline(steps=[('tfidf', TfidfVectorizer()),\n",
              "                                              ('clf',\n",
              "                                               DecisionTreeClassifier())]),\n",
              "                    n_jobs=-1,\n",
              "                    param_grid={'clf__criterion': ('gini', 'entropy',\n",
              "                                                   'log_loss'),\n",
              "                                'tfidf__max_df': array([0.3       , 0.34444444, 0.38888889, 0.43333333, 0.47777778,\n",
              "       0.52222222, 0.56666667, 0.61111111, 0.65555556, 0.7       ]),\n",
              "                                'tfidf__min_df': [0.0, 0.001, 0.003, 0.005,\n",
              "                                                  0.007],\n",
              "                                'tfidf__ngram_range': ((1, 1), (1, 2)),\n",
              "                                'tfidf__norm': ('l1', 'l2')},\n",
              "                    scoring='accuracy', verbose=1)"
            ],
            "text/html": [
              "<style>#sk-container-id-3 {color: black;background-color: white;}#sk-container-id-3 pre{padding: 0;}#sk-container-id-3 div.sk-toggleable {background-color: white;}#sk-container-id-3 label.sk-toggleable__label {cursor: pointer;display: block;width: 100%;margin-bottom: 0;padding: 0.3em;box-sizing: border-box;text-align: center;}#sk-container-id-3 label.sk-toggleable__label-arrow:before {content: \"▸\";float: left;margin-right: 0.25em;color: #696969;}#sk-container-id-3 label.sk-toggleable__label-arrow:hover:before {color: black;}#sk-container-id-3 div.sk-estimator:hover label.sk-toggleable__label-arrow:before {color: black;}#sk-container-id-3 div.sk-toggleable__content {max-height: 0;max-width: 0;overflow: hidden;text-align: left;background-color: #f0f8ff;}#sk-container-id-3 div.sk-toggleable__content pre {margin: 0.2em;color: black;border-radius: 0.25em;background-color: #f0f8ff;}#sk-container-id-3 input.sk-toggleable__control:checked~div.sk-toggleable__content {max-height: 200px;max-width: 100%;overflow: auto;}#sk-container-id-3 input.sk-toggleable__control:checked~label.sk-toggleable__label-arrow:before {content: \"▾\";}#sk-container-id-3 div.sk-estimator input.sk-toggleable__control:checked~label.sk-toggleable__label {background-color: #d4ebff;}#sk-container-id-3 div.sk-label input.sk-toggleable__control:checked~label.sk-toggleable__label {background-color: #d4ebff;}#sk-container-id-3 input.sk-hidden--visually {border: 0;clip: rect(1px 1px 1px 1px);clip: rect(1px, 1px, 1px, 1px);height: 1px;margin: -1px;overflow: hidden;padding: 0;position: absolute;width: 1px;}#sk-container-id-3 div.sk-estimator {font-family: monospace;background-color: #f0f8ff;border: 1px dotted black;border-radius: 0.25em;box-sizing: border-box;margin-bottom: 0.5em;}#sk-container-id-3 div.sk-estimator:hover {background-color: #d4ebff;}#sk-container-id-3 div.sk-parallel-item::after {content: \"\";width: 100%;border-bottom: 1px solid gray;flex-grow: 1;}#sk-container-id-3 div.sk-label:hover label.sk-toggleable__label {background-color: #d4ebff;}#sk-container-id-3 div.sk-serial::before {content: \"\";position: absolute;border-left: 1px solid gray;box-sizing: border-box;top: 0;bottom: 0;left: 50%;z-index: 0;}#sk-container-id-3 div.sk-serial {display: flex;flex-direction: column;align-items: center;background-color: white;padding-right: 0.2em;padding-left: 0.2em;position: relative;}#sk-container-id-3 div.sk-item {position: relative;z-index: 1;}#sk-container-id-3 div.sk-parallel {display: flex;align-items: stretch;justify-content: center;background-color: white;position: relative;}#sk-container-id-3 div.sk-item::before, #sk-container-id-3 div.sk-parallel-item::before {content: \"\";position: absolute;border-left: 1px solid gray;box-sizing: border-box;top: 0;bottom: 0;left: 50%;z-index: -1;}#sk-container-id-3 div.sk-parallel-item {display: flex;flex-direction: column;z-index: 1;position: relative;background-color: white;}#sk-container-id-3 div.sk-parallel-item:first-child::after {align-self: flex-end;width: 50%;}#sk-container-id-3 div.sk-parallel-item:last-child::after {align-self: flex-start;width: 50%;}#sk-container-id-3 div.sk-parallel-item:only-child::after {width: 0;}#sk-container-id-3 div.sk-dashed-wrapped {border: 1px dashed gray;margin: 0 0.4em 0.5em 0.4em;box-sizing: border-box;padding-bottom: 0.4em;background-color: white;}#sk-container-id-3 div.sk-label label {font-family: monospace;font-weight: bold;display: inline-block;line-height: 1.2em;}#sk-container-id-3 div.sk-label-container {text-align: center;}#sk-container-id-3 div.sk-container {/* jupyter's `normalize.less` sets `[hidden] { display: none; }` but bootstrap.min.css set `[hidden] { display: none !important; }` so we also need the `!important` here to be able to override the default hidden behavior on the sphinx rendered scikit-learn.org. See: https://github.com/scikit-learn/scikit-learn/issues/21755 */display: inline-block !important;position: relative;}#sk-container-id-3 div.sk-text-repr-fallback {display: none;}</style><div id=\"sk-container-id-3\" class=\"sk-top-container\"><div class=\"sk-text-repr-fallback\"><pre>HalvingGridSearchCV(cv=2,\n",
              "                    estimator=Pipeline(steps=[(&#x27;tfidf&#x27;, TfidfVectorizer()),\n",
              "                                              (&#x27;clf&#x27;,\n",
              "                                               DecisionTreeClassifier())]),\n",
              "                    n_jobs=-1,\n",
              "                    param_grid={&#x27;clf__criterion&#x27;: (&#x27;gini&#x27;, &#x27;entropy&#x27;,\n",
              "                                                   &#x27;log_loss&#x27;),\n",
              "                                &#x27;tfidf__max_df&#x27;: array([0.3       , 0.34444444, 0.38888889, 0.43333333, 0.47777778,\n",
              "       0.52222222, 0.56666667, 0.61111111, 0.65555556, 0.7       ]),\n",
              "                                &#x27;tfidf__min_df&#x27;: [0.0, 0.001, 0.003, 0.005,\n",
              "                                                  0.007],\n",
              "                                &#x27;tfidf__ngram_range&#x27;: ((1, 1), (1, 2)),\n",
              "                                &#x27;tfidf__norm&#x27;: (&#x27;l1&#x27;, &#x27;l2&#x27;)},\n",
              "                    scoring=&#x27;accuracy&#x27;, verbose=1)</pre><b>In a Jupyter environment, please rerun this cell to show the HTML representation or trust the notebook. <br />On GitHub, the HTML representation is unable to render, please try loading this page with nbviewer.org.</b></div><div class=\"sk-container\" hidden><div class=\"sk-item sk-dashed-wrapped\"><div class=\"sk-label-container\"><div class=\"sk-label sk-toggleable\"><input class=\"sk-toggleable__control sk-hidden--visually\" id=\"sk-estimator-id-9\" type=\"checkbox\" ><label for=\"sk-estimator-id-9\" class=\"sk-toggleable__label sk-toggleable__label-arrow\">HalvingGridSearchCV</label><div class=\"sk-toggleable__content\"><pre>HalvingGridSearchCV(cv=2,\n",
              "                    estimator=Pipeline(steps=[(&#x27;tfidf&#x27;, TfidfVectorizer()),\n",
              "                                              (&#x27;clf&#x27;,\n",
              "                                               DecisionTreeClassifier())]),\n",
              "                    n_jobs=-1,\n",
              "                    param_grid={&#x27;clf__criterion&#x27;: (&#x27;gini&#x27;, &#x27;entropy&#x27;,\n",
              "                                                   &#x27;log_loss&#x27;),\n",
              "                                &#x27;tfidf__max_df&#x27;: array([0.3       , 0.34444444, 0.38888889, 0.43333333, 0.47777778,\n",
              "       0.52222222, 0.56666667, 0.61111111, 0.65555556, 0.7       ]),\n",
              "                                &#x27;tfidf__min_df&#x27;: [0.0, 0.001, 0.003, 0.005,\n",
              "                                                  0.007],\n",
              "                                &#x27;tfidf__ngram_range&#x27;: ((1, 1), (1, 2)),\n",
              "                                &#x27;tfidf__norm&#x27;: (&#x27;l1&#x27;, &#x27;l2&#x27;)},\n",
              "                    scoring=&#x27;accuracy&#x27;, verbose=1)</pre></div></div></div><div class=\"sk-parallel\"><div class=\"sk-parallel-item\"><div class=\"sk-item\"><div class=\"sk-label-container\"><div class=\"sk-label sk-toggleable\"><input class=\"sk-toggleable__control sk-hidden--visually\" id=\"sk-estimator-id-10\" type=\"checkbox\" ><label for=\"sk-estimator-id-10\" class=\"sk-toggleable__label sk-toggleable__label-arrow\">estimator: Pipeline</label><div class=\"sk-toggleable__content\"><pre>Pipeline(steps=[(&#x27;tfidf&#x27;, TfidfVectorizer()),\n",
              "                (&#x27;clf&#x27;, DecisionTreeClassifier())])</pre></div></div></div><div class=\"sk-serial\"><div class=\"sk-item\"><div class=\"sk-serial\"><div class=\"sk-item\"><div class=\"sk-estimator sk-toggleable\"><input class=\"sk-toggleable__control sk-hidden--visually\" id=\"sk-estimator-id-11\" type=\"checkbox\" ><label for=\"sk-estimator-id-11\" class=\"sk-toggleable__label sk-toggleable__label-arrow\">TfidfVectorizer</label><div class=\"sk-toggleable__content\"><pre>TfidfVectorizer()</pre></div></div></div><div class=\"sk-item\"><div class=\"sk-estimator sk-toggleable\"><input class=\"sk-toggleable__control sk-hidden--visually\" id=\"sk-estimator-id-12\" type=\"checkbox\" ><label for=\"sk-estimator-id-12\" class=\"sk-toggleable__label sk-toggleable__label-arrow\">DecisionTreeClassifier</label><div class=\"sk-toggleable__content\"><pre>DecisionTreeClassifier()</pre></div></div></div></div></div></div></div></div></div></div></div></div>"
            ]
          },
          "metadata": {},
          "execution_count": 38
        }
      ]
    },
    {
      "cell_type": "code",
      "source": [
        "result = grid_search\n",
        "result.best_score_"
      ],
      "metadata": {
        "colab": {
          "base_uri": "https://localhost:8080/"
        },
        "id": "9layvy2-02CF",
        "outputId": "0629e3ab-47d5-4a5c-d5c4-36db888a08da"
      },
      "execution_count": 39,
      "outputs": [
        {
          "output_type": "execute_result",
          "data": {
            "text/plain": [
              "0.944647758462946"
            ]
          },
          "metadata": {},
          "execution_count": 39
        }
      ]
    },
    {
      "cell_type": "markdown",
      "source": [
        "##Naive Bayes"
      ],
      "metadata": {
        "id": "N9w2lWLr0_lc"
      }
    },
    {
      "cell_type": "code",
      "source": [
        "pipe = Pipeline(\n",
        "    steps=[\n",
        "        ('count_vect', CountVectorizer()),\n",
        "        ('clf', MultinomialNB())\n",
        "    ]\n",
        ")"
      ],
      "metadata": {
        "id": "8ZVcwrJe0-27"
      },
      "execution_count": 42,
      "outputs": []
    },
    {
      "cell_type": "code",
      "source": [
        "parameter_grid = {\n",
        "    \"count_vect__max_df\": np.linspace(0.3, 0.7, 10),\n",
        "    \"count_vect__min_df\": [ 0.003, 0.005, 0.007],\n",
        "    \"count_vect__ngram_range\": ((1, 1), (1, 2)),\n",
        "}"
      ],
      "metadata": {
        "id": "Jexe_iA41SqO"
      },
      "execution_count": 43,
      "outputs": []
    },
    {
      "cell_type": "code",
      "source": [
        "%%time\n",
        "\n",
        "grid_search = HalvingGridSearchCV(pipe,param_grid=parameter_grid,n_jobs=-1,verbose=1,cv=2,scoring='accuracy')\n",
        "grid_search.fit(X_train, y_train)"
      ],
      "metadata": {
        "colab": {
          "base_uri": "https://localhost:8080/",
          "height": 688
        },
        "id": "LgPHARvP1Ubm",
        "outputId": "52dd193e-bb28-43c4-c405-5972126d0b62"
      },
      "execution_count": 44,
      "outputs": [
        {
          "output_type": "stream",
          "name": "stdout",
          "text": [
            "n_iterations: 4\n",
            "n_required_iterations: 4\n",
            "n_possible_iterations: 4\n",
            "min_resources_: 83\n",
            "max_resources_: 2250\n",
            "aggressive_elimination: False\n",
            "factor: 3\n",
            "----------\n",
            "iter: 0\n",
            "n_candidates: 60\n",
            "n_resources: 83\n",
            "Fitting 2 folds for each of 60 candidates, totalling 120 fits\n",
            "----------\n",
            "iter: 1\n",
            "n_candidates: 20\n",
            "n_resources: 249\n",
            "Fitting 2 folds for each of 20 candidates, totalling 40 fits\n",
            "----------\n",
            "iter: 2\n",
            "n_candidates: 7\n",
            "n_resources: 747\n",
            "Fitting 2 folds for each of 7 candidates, totalling 14 fits\n",
            "----------\n",
            "iter: 3\n",
            "n_candidates: 3\n",
            "n_resources: 2241\n",
            "Fitting 2 folds for each of 3 candidates, totalling 6 fits\n",
            "CPU times: user 1.12 s, sys: 125 ms, total: 1.25 s\n",
            "Wall time: 23.1 s\n"
          ]
        },
        {
          "output_type": "execute_result",
          "data": {
            "text/plain": [
              "HalvingGridSearchCV(cv=2,\n",
              "                    estimator=Pipeline(steps=[('count_vect', CountVectorizer()),\n",
              "                                              ('clf', MultinomialNB())]),\n",
              "                    n_jobs=-1,\n",
              "                    param_grid={'count_vect__max_df': array([0.3       , 0.34444444, 0.38888889, 0.43333333, 0.47777778,\n",
              "       0.52222222, 0.56666667, 0.61111111, 0.65555556, 0.7       ]),\n",
              "                                'count_vect__min_df': [0.003, 0.005, 0.007],\n",
              "                                'count_vect__ngram_range': ((1, 1), (1, 2))},\n",
              "                    scoring='accuracy', verbose=1)"
            ],
            "text/html": [
              "<style>#sk-container-id-4 {color: black;background-color: white;}#sk-container-id-4 pre{padding: 0;}#sk-container-id-4 div.sk-toggleable {background-color: white;}#sk-container-id-4 label.sk-toggleable__label {cursor: pointer;display: block;width: 100%;margin-bottom: 0;padding: 0.3em;box-sizing: border-box;text-align: center;}#sk-container-id-4 label.sk-toggleable__label-arrow:before {content: \"▸\";float: left;margin-right: 0.25em;color: #696969;}#sk-container-id-4 label.sk-toggleable__label-arrow:hover:before {color: black;}#sk-container-id-4 div.sk-estimator:hover label.sk-toggleable__label-arrow:before {color: black;}#sk-container-id-4 div.sk-toggleable__content {max-height: 0;max-width: 0;overflow: hidden;text-align: left;background-color: #f0f8ff;}#sk-container-id-4 div.sk-toggleable__content pre {margin: 0.2em;color: black;border-radius: 0.25em;background-color: #f0f8ff;}#sk-container-id-4 input.sk-toggleable__control:checked~div.sk-toggleable__content {max-height: 200px;max-width: 100%;overflow: auto;}#sk-container-id-4 input.sk-toggleable__control:checked~label.sk-toggleable__label-arrow:before {content: \"▾\";}#sk-container-id-4 div.sk-estimator input.sk-toggleable__control:checked~label.sk-toggleable__label {background-color: #d4ebff;}#sk-container-id-4 div.sk-label input.sk-toggleable__control:checked~label.sk-toggleable__label {background-color: #d4ebff;}#sk-container-id-4 input.sk-hidden--visually {border: 0;clip: rect(1px 1px 1px 1px);clip: rect(1px, 1px, 1px, 1px);height: 1px;margin: -1px;overflow: hidden;padding: 0;position: absolute;width: 1px;}#sk-container-id-4 div.sk-estimator {font-family: monospace;background-color: #f0f8ff;border: 1px dotted black;border-radius: 0.25em;box-sizing: border-box;margin-bottom: 0.5em;}#sk-container-id-4 div.sk-estimator:hover {background-color: #d4ebff;}#sk-container-id-4 div.sk-parallel-item::after {content: \"\";width: 100%;border-bottom: 1px solid gray;flex-grow: 1;}#sk-container-id-4 div.sk-label:hover label.sk-toggleable__label {background-color: #d4ebff;}#sk-container-id-4 div.sk-serial::before {content: \"\";position: absolute;border-left: 1px solid gray;box-sizing: border-box;top: 0;bottom: 0;left: 50%;z-index: 0;}#sk-container-id-4 div.sk-serial {display: flex;flex-direction: column;align-items: center;background-color: white;padding-right: 0.2em;padding-left: 0.2em;position: relative;}#sk-container-id-4 div.sk-item {position: relative;z-index: 1;}#sk-container-id-4 div.sk-parallel {display: flex;align-items: stretch;justify-content: center;background-color: white;position: relative;}#sk-container-id-4 div.sk-item::before, #sk-container-id-4 div.sk-parallel-item::before {content: \"\";position: absolute;border-left: 1px solid gray;box-sizing: border-box;top: 0;bottom: 0;left: 50%;z-index: -1;}#sk-container-id-4 div.sk-parallel-item {display: flex;flex-direction: column;z-index: 1;position: relative;background-color: white;}#sk-container-id-4 div.sk-parallel-item:first-child::after {align-self: flex-end;width: 50%;}#sk-container-id-4 div.sk-parallel-item:last-child::after {align-self: flex-start;width: 50%;}#sk-container-id-4 div.sk-parallel-item:only-child::after {width: 0;}#sk-container-id-4 div.sk-dashed-wrapped {border: 1px dashed gray;margin: 0 0.4em 0.5em 0.4em;box-sizing: border-box;padding-bottom: 0.4em;background-color: white;}#sk-container-id-4 div.sk-label label {font-family: monospace;font-weight: bold;display: inline-block;line-height: 1.2em;}#sk-container-id-4 div.sk-label-container {text-align: center;}#sk-container-id-4 div.sk-container {/* jupyter's `normalize.less` sets `[hidden] { display: none; }` but bootstrap.min.css set `[hidden] { display: none !important; }` so we also need the `!important` here to be able to override the default hidden behavior on the sphinx rendered scikit-learn.org. See: https://github.com/scikit-learn/scikit-learn/issues/21755 */display: inline-block !important;position: relative;}#sk-container-id-4 div.sk-text-repr-fallback {display: none;}</style><div id=\"sk-container-id-4\" class=\"sk-top-container\"><div class=\"sk-text-repr-fallback\"><pre>HalvingGridSearchCV(cv=2,\n",
              "                    estimator=Pipeline(steps=[(&#x27;count_vect&#x27;, CountVectorizer()),\n",
              "                                              (&#x27;clf&#x27;, MultinomialNB())]),\n",
              "                    n_jobs=-1,\n",
              "                    param_grid={&#x27;count_vect__max_df&#x27;: array([0.3       , 0.34444444, 0.38888889, 0.43333333, 0.47777778,\n",
              "       0.52222222, 0.56666667, 0.61111111, 0.65555556, 0.7       ]),\n",
              "                                &#x27;count_vect__min_df&#x27;: [0.003, 0.005, 0.007],\n",
              "                                &#x27;count_vect__ngram_range&#x27;: ((1, 1), (1, 2))},\n",
              "                    scoring=&#x27;accuracy&#x27;, verbose=1)</pre><b>In a Jupyter environment, please rerun this cell to show the HTML representation or trust the notebook. <br />On GitHub, the HTML representation is unable to render, please try loading this page with nbviewer.org.</b></div><div class=\"sk-container\" hidden><div class=\"sk-item sk-dashed-wrapped\"><div class=\"sk-label-container\"><div class=\"sk-label sk-toggleable\"><input class=\"sk-toggleable__control sk-hidden--visually\" id=\"sk-estimator-id-13\" type=\"checkbox\" ><label for=\"sk-estimator-id-13\" class=\"sk-toggleable__label sk-toggleable__label-arrow\">HalvingGridSearchCV</label><div class=\"sk-toggleable__content\"><pre>HalvingGridSearchCV(cv=2,\n",
              "                    estimator=Pipeline(steps=[(&#x27;count_vect&#x27;, CountVectorizer()),\n",
              "                                              (&#x27;clf&#x27;, MultinomialNB())]),\n",
              "                    n_jobs=-1,\n",
              "                    param_grid={&#x27;count_vect__max_df&#x27;: array([0.3       , 0.34444444, 0.38888889, 0.43333333, 0.47777778,\n",
              "       0.52222222, 0.56666667, 0.61111111, 0.65555556, 0.7       ]),\n",
              "                                &#x27;count_vect__min_df&#x27;: [0.003, 0.005, 0.007],\n",
              "                                &#x27;count_vect__ngram_range&#x27;: ((1, 1), (1, 2))},\n",
              "                    scoring=&#x27;accuracy&#x27;, verbose=1)</pre></div></div></div><div class=\"sk-parallel\"><div class=\"sk-parallel-item\"><div class=\"sk-item\"><div class=\"sk-label-container\"><div class=\"sk-label sk-toggleable\"><input class=\"sk-toggleable__control sk-hidden--visually\" id=\"sk-estimator-id-14\" type=\"checkbox\" ><label for=\"sk-estimator-id-14\" class=\"sk-toggleable__label sk-toggleable__label-arrow\">estimator: Pipeline</label><div class=\"sk-toggleable__content\"><pre>Pipeline(steps=[(&#x27;count_vect&#x27;, CountVectorizer()), (&#x27;clf&#x27;, MultinomialNB())])</pre></div></div></div><div class=\"sk-serial\"><div class=\"sk-item\"><div class=\"sk-serial\"><div class=\"sk-item\"><div class=\"sk-estimator sk-toggleable\"><input class=\"sk-toggleable__control sk-hidden--visually\" id=\"sk-estimator-id-15\" type=\"checkbox\" ><label for=\"sk-estimator-id-15\" class=\"sk-toggleable__label sk-toggleable__label-arrow\">CountVectorizer</label><div class=\"sk-toggleable__content\"><pre>CountVectorizer()</pre></div></div></div><div class=\"sk-item\"><div class=\"sk-estimator sk-toggleable\"><input class=\"sk-toggleable__control sk-hidden--visually\" id=\"sk-estimator-id-16\" type=\"checkbox\" ><label for=\"sk-estimator-id-16\" class=\"sk-toggleable__label sk-toggleable__label-arrow\">MultinomialNB</label><div class=\"sk-toggleable__content\"><pre>MultinomialNB()</pre></div></div></div></div></div></div></div></div></div></div></div></div>"
            ]
          },
          "metadata": {},
          "execution_count": 44
        }
      ]
    },
    {
      "cell_type": "code",
      "source": [
        "result=grid_search\n",
        "result.best_score_"
      ],
      "metadata": {
        "colab": {
          "base_uri": "https://localhost:8080/"
        },
        "id": "kFYXdEnw1WNk",
        "outputId": "3a609801-4046-4a92-8725-c793fb882d9f"
      },
      "execution_count": 45,
      "outputs": [
        {
          "output_type": "execute_result",
          "data": {
            "text/plain": [
              "0.9772321428571429"
            ]
          },
          "metadata": {},
          "execution_count": 45
        }
      ]
    }
  ]
}